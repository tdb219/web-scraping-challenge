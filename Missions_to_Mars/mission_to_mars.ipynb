{
 "cells": [
  {
   "cell_type": "code",
   "execution_count": 1,
   "metadata": {},
   "outputs": [],
   "source": [
    "import pandas as pd\n",
    "from bs4 import BeautifulSoup as bs\n",
    "from splinter import Browser\n",
    "from webdriver_manager.chrome import ChromeDriverManager"
   ]
  },
  {
   "cell_type": "code",
   "execution_count": 2,
   "metadata": {},
   "outputs": [
    {
     "name": "stderr",
     "output_type": "stream",
     "text": [
      "[WDM] - ====== WebDriver manager ======\n",
      "[WDM] - Current google-chrome version is 89.0.4389\n",
      "[WDM] - Get LATEST driver version for 89.0.4389\n",
      "[WDM] - Get LATEST driver version for 89.0.4389\n"
     ]
    },
    {
     "name": "stdout",
     "output_type": "stream",
     "text": [
      "\n",
      "\n"
     ]
    },
    {
     "name": "stderr",
     "output_type": "stream",
     "text": [
      "[WDM] - Trying to download new driver from https://chromedriver.storage.googleapis.com/89.0.4389.23/chromedriver_win32.zip\n",
      "[WDM] - Driver has been saved in cache [C:\\Users\\tball\\.wdm\\drivers\\chromedriver\\win32\\89.0.4389.23]\n"
     ]
    }
   ],
   "source": [
    "executable_path = {'executable_path': ChromeDriverManager().install()}\n",
    "browser = Browser('chrome', **executable_path, headless=False)"
   ]
  },
  {
   "cell_type": "code",
   "execution_count": 3,
   "metadata": {},
   "outputs": [],
   "source": [
    "# Set Mars News url for scraping\n",
    "url = \"https://mars.nasa.gov/news/?page=0&per_page=40&order=publish_date+desc%2Ccreated_at+desc&search=&category=19%2C165%2C184%2C204&blank_scope=Latest\"\n",
    "browser.visit(url)"
   ]
  },
  {
   "cell_type": "code",
   "execution_count": 4,
   "metadata": {},
   "outputs": [],
   "source": [
    "html=browser.html\n",
    "news_soup = bs(html, 'html.parser')"
   ]
  },
  {
   "cell_type": "code",
   "execution_count": 5,
   "metadata": {
    "scrolled": true
   },
   "outputs": [
    {
     "name": "stdout",
     "output_type": "stream",
     "text": [
      "[<div class=\"content_title\">Mars Now</div>, <div class=\"content_title\"><a href=\"/news/8886/nasas-perseverance-mars-rover-mission-honors-navajo-language/\" target=\"_self\">NASA's Perseverance Mars Rover Mission Honors Navajo Language</a></div>, <div class=\"content_title\"><a href=\"/news/8885/perseverance-rovers-supercam-science-instrument-delivers-first-results/\" target=\"_self\">Perseverance Rover's SuperCam Science Instrument Delivers First Results</a></div>, <div class=\"content_title\"><a href=\"/news/8882/nasas-perseverance-drives-on-mars-terrain-for-first-time/\" target=\"_self\">NASA's Perseverance Drives on Mars' Terrain for First Time</a></div>, <div class=\"content_title\"><a href=\"/news/8881/media-telecon-materials-march-5-2021/\" target=\"_self\">Media Telecon Materials - March 5, 2021</a></div>, <div class=\"content_title\"><a href=\"/news/8880/nasa-awards-mars-ascent-propulsion-system-contract-for-sample-return/\" target=\"_self\">NASA Awards Mars Ascent Propulsion System Contract for Sample Return</a></div>, <div class=\"content_title\"><a href=\"/news/8878/nasa-to-provide-update-on-perseverance-firsts-since-mars-landing/\" target=\"_self\">NASA to Provide Update on Perseverance ‘Firsts' Since Mars Landing </a></div>, <div class=\"content_title\"><a href=\"/news/8875/testing-proves-its-worth-with-successful-mars-parachute-deployment/\" target=\"_self\">Testing Proves Its Worth With Successful Mars Parachute Deployment</a></div>, <div class=\"content_title\"><a href=\"/news/8873/nasas-perseverance-rover-gives-high-definition-panoramic-view-of-landing-site/\" target=\"_self\">NASA's Perseverance Rover Gives High-Definition Panoramic View of Landing Site</a></div>, <div class=\"content_title\"><a href=\"/news/8872/nearly-11-million-names-of-earthlings-are-on-mars-perseverance/\" target=\"_self\">Nearly 11 Million Names of Earthlings are on Mars Perseverance</a></div>, <div class=\"content_title\"><a href=\"/news/8870/nasas-mars-perseverance-rover-provides-front-row-seat-to-landing-first-audio-recording-of-red-planet/\" target=\"_self\">NASA's Mars Perseverance Rover Provides Front-Row Seat to Landing, First Audio Recording of Red Planet </a></div>, <div class=\"content_title\"><a href=\"/news/8868/nasa-to-reveal-new-video-images-from-mars-perseverance-rover/\" target=\"_self\">NASA to Reveal New Video, Images From Mars Perseverance Rover</a></div>, <div class=\"content_title\"><a href=\"/news/8867/nasas-mars-helicopter-reports-in/\" target=\"_self\">NASA's Mars Helicopter Reports In </a></div>, <div class=\"content_title\"><a href=\"/news/8866/nasas-perseverance-rover-sends-sneak-peek-of-mars-landing/\" target=\"_self\">NASA's Perseverance Rover Sends Sneak Peek of Mars Landing</a></div>, <div class=\"content_title\"><a href=\"/news/8865/touchdown-nasas-mars-perseverance-rover-safely-lands-on-red-planet/\" target=\"_self\">Touchdown! NASA's Mars Perseverance Rover Safely Lands on Red Planet</a></div>, <div class=\"content_title\"><a href=\"/news/8863/searching-for-life-in-nasas-perseverance-mars-samples/\" target=\"_self\">Searching for Life in NASA's Perseverance Mars Samples</a></div>, <div class=\"content_title\"><a href=\"/news/8861/the-mars-relay-network-connects-us-to-nasas-martian-explorers/\" target=\"_self\">The Mars Relay Network Connects Us to NASA's Martian Explorers</a></div>, <div class=\"content_title\"><a href=\"/news/8860/nasas-next-mars-rover-is-ready-for-the-most-precise-landing-yet/\" target=\"_self\">NASA's Next Mars Rover Is Ready for the Most Precise Landing Yet</a></div>, <div class=\"content_title\"><a href=\"/news/8859/sensors-prepare-to-collect-data-as-perseverance-enters-mars-atmosphere/\" target=\"_self\">Sensors Prepare to Collect Data as Perseverance Enters Mars' Atmosphere</a></div>, <div class=\"content_title\"><a href=\"/news/8858/insight-is-meeting-the-challenge-of-winter-on-dusty-mars/\" target=\"_self\">InSight Is Meeting the Challenge of Winter on Dusty Mars</a></div>, <div class=\"content_title\"><a href=\"/news/8857/nasa-invites-public-to-share-thrill-of-mars-perseverance-rover-landing/\" target=\"_self\">NASA Invites Public to Share Thrill of Mars Perseverance Rover Landing</a></div>, <div class=\"content_title\"><a href=\"/news/8852/tricky-terrain-helping-to-assure-a-safe-rover-landing/\" target=\"_self\">Tricky Terrain: Helping to Assure a Safe Rover Landing</a></div>, <div class=\"content_title\"><a href=\"/news/8851/where-should-future-astronauts-land-on-mars-follow-the-water/\" target=\"_self\">Where Should Future Astronauts Land on Mars? Follow the Water</a></div>, <div class=\"content_title\"><a href=\"/news/8848/nasas-perseverance-pays-off-back-home/\" target=\"_self\">NASA's Perseverance Pays Off Back Home</a></div>, <div class=\"content_title\"><a href=\"/news/8846/could-the-surface-of-phobos-reveal-secrets-of-the-martian-past/\" target=\"_self\">Could the Surface of Phobos Reveal Secrets of the Martian Past?</a></div>, <div class=\"content_title\"><a href=\"/news/8844/nasas-maven-continues-to-advance-mars-science-and-telecommunications-relay-efforts/\" target=\"_self\">NASA's MAVEN Continues to Advance Mars Science and Telecommunications Relay Efforts</a></div>, <div class=\"content_title\"><a href=\"/news/8843/nasas-perseverance-rover-22-days-from-mars-landing/\" target=\"_self\">NASA's Perseverance Rover 22 Days From Mars Landing</a></div>, <div class=\"content_title\"><a href=\"/news/8840/6-things-to-know-about-nasas-mars-helicopter-on-its-way-to-mars/\" target=\"_self\">6 Things to Know About NASA's Mars Helicopter on Its Way to Mars</a></div>, <div class=\"content_title\"><a href=\"/news/8837/nasa-to-host-virtual-briefing-on-february-perseverance-mars-rover-landing/\" target=\"_self\">NASA to Host Virtual Briefing on February Perseverance Mars Rover Landing</a></div>, <div class=\"content_title\"><a href=\"/news/8836/nasa-insights-mole-ends-its-journey-on-mars/\" target=\"_self\">NASA InSight's ‘Mole' Ends Its Journey on Mars</a></div>, <div class=\"content_title\"><a href=\"/news/8834/mars-2020-perseverance-rover-to-capture-sounds-from-the-red-planet/\" target=\"_self\">Mars 2020 Perseverance Rover to Capture Sounds From the Red Planet</a></div>, <div class=\"content_title\"><a href=\"/news/8832/nasas-curiosity-rover-reaches-its-3000th-day-on-mars/\" target=\"_self\">NASA's Curiosity Rover Reaches Its 3,000th Day on Mars</a></div>, <div class=\"content_title\"><a href=\"/news/8830/celebrate-the-perseverance-rover-landing-with-nasas-student-challenge/\" target=\"_self\">Celebrate the Perseverance Rover Landing With NASA's Student Challenge</a></div>, <div class=\"content_title\"><a href=\"/news/8829/nasa-extends-exploration-for-two-planetary-science-missions/\" target=\"_self\">NASA Extends Exploration for Two Planetary Science Missions</a></div>, <div class=\"content_title\"><a href=\"/news/8826/7-things-to-know-about-the-nasa-rover-about-to-land-on-mars/\" target=\"_self\">7 Things to Know About the NASA Rover About to Land on Mars</a></div>, <div class=\"content_title\"><a href=\"/news/8822/a-martian-roundtrip-nasas-perseverance-rover-sample-tubes/\" target=\"_self\">A Martian Roundtrip: NASA's Perseverance Rover Sample Tubes</a></div>, <div class=\"content_title\"><a href=\"/news/8819/nasa-moves-forward-with-campaign-to-return-mars-samples-to-earth/\" target=\"_self\">NASA Moves Forward With Campaign to Return Mars Samples to Earth</a></div>, <div class=\"content_title\"><a href=\"/news/8817/3-things-weve-learned-from-nasas-mars-insight/\" target=\"_self\">3 Things We've Learned From NASA's Mars InSight </a></div>, <div class=\"content_title\"><a href=\"/news/8815/from-jpls-mailroom-to-mars-and-beyond/\" target=\"_self\">From JPL's Mailroom to Mars and Beyond</a></div>, <div class=\"content_title\"><a href=\"/news/8812/5-hidden-gems-are-riding-aboard-nasas-perseverance-rover/\" target=\"_self\">5 Hidden Gems Are Riding Aboard NASA's Perseverance Rover</a></div>, <div class=\"content_title\"><a href=\"/news/8805/moxie-could-help-future-rockets-launch-off-mars/\" target=\"_self\">MOXIE Could Help Future Rockets Launch Off Mars</a></div>, <div class=\"content_title\">\n",
      "<a href=\"/news/8870/nasas-mars-perseverance-rover-provides-front-row-seat-to-landing-first-audio-recording-of-red-planet/\">\n",
      "NASA's Mars Perseverance Rover Provides Front-Row Seat to Landing, First Audio Recording of Red Planet \n",
      "</a>\n",
      "</div>, <div class=\"content_title\">\n",
      "<a href=\"/news/8868/nasa-to-reveal-new-video-images-from-mars-perseverance-rover/\">\n",
      "NASA to Reveal New Video, Images From Mars Perseverance Rover\n",
      "</a>\n",
      "</div>, <div class=\"content_title\">\n",
      "<a href=\"/news/8860/nasas-next-mars-rover-is-ready-for-the-most-precise-landing-yet/\">\n",
      "NASA's Next Mars Rover Is Ready for the Most Precise Landing Yet\n",
      "</a>\n",
      "</div>, <div class=\"content_title\">\n",
      "<a href=\"/news/8882/nasas-perseverance-drives-on-mars-terrain-for-first-time/\">\n",
      "NASA's Perseverance Drives on Mars' Terrain for First Time\n",
      "</a>\n",
      "</div>, <div class=\"content_title\">\n",
      "<a href=\"/news/8880/nasa-awards-mars-ascent-propulsion-system-contract-for-sample-return/\">\n",
      "NASA Awards Mars Ascent Propulsion System Contract for Sample Return\n",
      "</a>\n",
      "</div>, <div class=\"content_title\">\n",
      "<a href=\"/news/8878/nasa-to-provide-update-on-perseverance-firsts-since-mars-landing/\">\n",
      "NASA to Provide Update on Perseverance ‘Firsts' Since Mars Landing \n",
      "</a>\n",
      "</div>, <div class=\"content_title\">\n",
      "<a href=\"/news/8870/nasas-mars-perseverance-rover-provides-front-row-seat-to-landing-first-audio-recording-of-red-planet/\">\n",
      "NASA's Mars Perseverance Rover Provides Front-Row Seat to Landing, First Audio Recording of Red Planet \n",
      "</a>\n",
      "</div>, <div class=\"content_title\">\n",
      "<a href=\"/news/8868/nasa-to-reveal-new-video-images-from-mars-perseverance-rover/\">\n",
      "NASA to Reveal New Video, Images From Mars Perseverance Rover\n",
      "</a>\n",
      "</div>, <div class=\"content_title\">\n",
      "<a href=\"/news/8860/nasas-next-mars-rover-is-ready-for-the-most-precise-landing-yet/\">\n",
      "NASA's Next Mars Rover Is Ready for the Most Precise Landing Yet\n",
      "</a>\n",
      "</div>, <div class=\"content_title\">\n",
      "<a href=\"/news/8882/nasas-perseverance-drives-on-mars-terrain-for-first-time/\">\n",
      "NASA's Perseverance Drives on Mars' Terrain for First Time\n",
      "</a>\n",
      "</div>, <div class=\"content_title\">\n",
      "<a href=\"/news/8880/nasa-awards-mars-ascent-propulsion-system-contract-for-sample-return/\">\n",
      "NASA Awards Mars Ascent Propulsion System Contract for Sample Return\n",
      "</a>\n",
      "</div>, <div class=\"content_title\">\n",
      "<a href=\"/news/8878/nasa-to-provide-update-on-perseverance-firsts-since-mars-landing/\">\n",
      "NASA to Provide Update on Perseverance ‘Firsts' Since Mars Landing \n",
      "</a>\n",
      "</div>]\n",
      "---------------------------------------------\n",
      "[<div class=\"article_teaser_body\">Working with the Navajo Nation, the rover team has named features on Mars with words from the Navajo language.</div>, <div class=\"article_teaser_body\">Data from the powerful science tool includes sounds of its laser zapping a rock in order to test what it’s made of.</div>, <div class=\"article_teaser_body\">The first trek of the agency’s largest, most advanced rover yet on the Red Planet marks a major milestone before science operations get under way.</div>, <div class=\"article_teaser_body\">Mission team members are participating in a virtual teleconference to discuss milestones achieved so far since the Feb. 18 landing and those to come.</div>, <div class=\"article_teaser_body\">The award moves NASA and ESA a step closer to realizing Mars Sample Return, an ambitious planetary exploration program that will build upon decades of science, knowledge, and experience.</div>, <div class=\"article_teaser_body\">Mission team members are participating in a virtual teleconference to discuss milestones achieved so far since the Feb. 18 landing and those to come.</div>, <div class=\"article_teaser_body\">The giant canopy that helped land Perseverance on Mars was tested here on Earth at NASA’s Wallops Flight Facility in Virginia.</div>, <div class=\"article_teaser_body\">A 360-degree panorama taken by the rover’s Mastcam-Z instrument will be discussed during a public video chat this Thursday.</div>, <div class=\"article_teaser_body\">When the Perseverance rover safely touched down on the Martian surface, inside Jezero Crater, on Feb. 18, 2021, it was also a safe landing for the nearly 11 million names on board.</div>, <div class=\"article_teaser_body\">The agency’s newest rover captured first-of-its kind footage of its Feb. 18 touchdown and has recorded audio of Martian wind.\n",
      "\n",
      "</div>, <div class=\"article_teaser_body\">First-of-its kind footage from the agency’s newest rover will be presented during a briefing this morning.</div>, <div class=\"article_teaser_body\">The technology demonstration has phoned home from where it is attached to the belly of NASA’s Perseverance rover. </div>, <div class=\"article_teaser_body\">The six-wheeled robot’s latest data since touching down yesterday include a hi-res image captured as the rover’s jetpack lowered it to the ground.</div>, <div class=\"article_teaser_body\">The agency’s latest and most complex mission to the Red Planet has touched down at Jezero Crater. Now it’s time to begin testing the health of the rover.  </div>, <div class=\"article_teaser_body\">When the agency’s newest rover mission searches for fossilized microscopic life on the Red Planet, how will scientists know whether they’ve found it?</div>, <div class=\"article_teaser_body\">A tightly choreographed dance between NASA’s Deep Space Network and Mars orbiters will keep the agency’s Perseverance in touch with Earth during landing and beyond.</div>, <div class=\"article_teaser_body\">What to expect when the Mars 2020 Perseverance rover arrives at the Red Planet on Feb. 18, 2021.</div>, <div class=\"article_teaser_body\">Technology will collect critical data about the harsh entry environment during Perseverance’s entry next Thursday.</div>, <div class=\"article_teaser_body\">As dust collects on the solar panels and winter comes to Elysium Planitia, the team is following a plan to reduce science operations in order to keep the lander safe.</div>, <div class=\"article_teaser_body\">Mark your calendars for live landing commentary, news briefings, livestreamed Q&amp;As, virtual watch parties, student activities, and more.</div>, <div class=\"article_teaser_body\">How two new technologies will help Perseverance, NASA’s most sophisticated rover yet, touch down onto the surface of Mars this month.</div>, <div class=\"article_teaser_body\">A new NASA paper provides the most detailed map to date of near-surface water ice on the Red Planet.</div>, <div class=\"article_teaser_body\">Even as the Perseverance rover approaches Mars, technology on board is paying off on Earth.</div>, <div class=\"article_teaser_body\">The Martian moon Phobos orbits through a stream of charged atoms and molecules that flow off the Red Planet’s atmosphere, new research shows.</div>, <div class=\"article_teaser_body\">With a suite of new national and international spacecraft primed to explore the Red Planet after their arrival next month, NASA’s MAVEN mission is ready to provide support and continue its study of the Martian atmosphere.</div>, <div class=\"article_teaser_body\">Seven minutes of harrowing descent to the Red Planet is in the not-so-distant future for the agency’s Mars 2020 mission.  </div>, <div class=\"article_teaser_body\">Ingenuity, a technology experiment, is preparing to attempt the first powered, controlled flight on the Red Planet.</div>, <div class=\"article_teaser_body\">NASA leadership and members of the mission will discuss the agency’s latest rover, which touches down on the Red Planet on Feb. 18.</div>, <div class=\"article_teaser_body\">The heat probe hasn’t been able to gain the friction it needs to dig, but the mission has been granted an extension to carry on with its other science.</div>, <div class=\"article_teaser_body\">Audio gathered by the mission may not sound quite the same on Mars as it would to our ears on Earth. A new interactive online experience lets you sample the difference.</div>, <div class=\"article_teaser_body\">As the rover has continued to ascend Mount Sharp, it’s found distinctive benchlike rock formations.</div>, <div class=\"article_teaser_body\">The rover touches down on the Red Planet next month, and students are invited to join the excitement by designing, building, and landing their own Mars mission. NASA can help.</div>, <div class=\"article_teaser_body\">The missions – Juno and InSight – have each increased our understanding of our solar system, as well as spurred new sets of diverse questions.</div>, <div class=\"article_teaser_body\">The Mars 2020 Perseverance rover, which has started its approach to the Red Planet, will help answer the next logical question in Mars exploration.</div>, <div class=\"article_teaser_body\">Marvels of engineering, the rover's sample tubes must be tough enough to safely bring Red Planet samples on the long journey back to Earth in immaculate condition. </div>, <div class=\"article_teaser_body\">During this next phase, the program will mature critical technologies and make critical design decisions as well as assess industry partnerships.</div>, <div class=\"article_teaser_body\">Scientists are finding new mysteries since the geophysics mission landed two years ago.</div>, <div class=\"article_teaser_body\">Bill Allen has thrived as the mechanical systems design lead for three Mars rover missions, but he got his start as a teenager sorting letters for the NASA center.</div>, <div class=\"article_teaser_body\">The symbols, mottos, and small objects added to the agency's newest Mars rover serve a variety of purposes, from functional to decorative.</div>, <div class=\"article_teaser_body\">NASA's Perseverance rover carries a device to convert Martian air into oxygen that, if produced on a larger scale, could be used not just for breathing, but also for fuel.</div>]\n"
     ]
    }
   ],
   "source": [
    "news_title = news_soup.find_all('div', class_ = \"content_title\")\n",
    "news_p = news_soup.find_all('div', class_ = \"article_teaser_body\")\n",
    "\n",
    "print(news_title)\n",
    "print('---------------------------------------------')\n",
    "print(news_p)"
   ]
  },
  {
   "cell_type": "code",
   "execution_count": null,
   "metadata": {},
   "outputs": [],
   "source": [
    "# Close browser\n",
    "# browser.quit()"
   ]
  },
  {
   "cell_type": "code",
   "execution_count": null,
   "metadata": {},
   "outputs": [],
   "source": [
    "### JPL Mars Space Images"
   ]
  },
  {
   "cell_type": "code",
   "execution_count": 7,
   "metadata": {},
   "outputs": [],
   "source": [
    "url_jpl = 'https://data-class-jpl-space.s3.amazonaws.com/JPL_Space/index.html'\n",
    "featured_image_url = 'https://data-class-jpl-space.s3.amazonaws.com/JPL_Space/image/featured/mars2.jpg'"
   ]
  },
  {
   "cell_type": "code",
   "execution_count": 8,
   "metadata": {},
   "outputs": [
    {
     "name": "stdout",
     "output_type": "stream",
     "text": [
      "https://data-class-jpl-space.s3.amazonaws.com/JPL_Space/image/featured/mars2.jpg\n"
     ]
    }
   ],
   "source": [
    "browser.visit(url_jpl)\n",
    "browser.links.find_by_partial_text('FULL IMAGE').click()\n",
    "\n",
    "# Parse HTML with Beautiful Soup\n",
    "# html = browser.html\n",
    "# image_soup = bs(html, 'html.parser')\n",
    "\n",
    "# Scrape the URL\n",
    "# feat_img_url = image_soup.find('img', class_='fancybox-image').src\n",
    "# featured_image_url = f'https://www.jpl.nasa.gov{feat_img_url}'\n",
    "print(featured_image_url)"
   ]
  },
  {
   "cell_type": "code",
   "execution_count": null,
   "metadata": {},
   "outputs": [],
   "source": [
    "# Close browser\n",
    "# browser.quit()"
   ]
  },
  {
   "cell_type": "code",
   "execution_count": null,
   "metadata": {},
   "outputs": [],
   "source": [
    "#### Mars Facts"
   ]
  }
 ],
 "metadata": {
  "kernelspec": {
   "display_name": "Python 3",
   "language": "python",
   "name": "python3"
  },
  "language_info": {
   "codemirror_mode": {
    "name": "ipython",
    "version": 3
   },
   "file_extension": ".py",
   "mimetype": "text/x-python",
   "name": "python",
   "nbconvert_exporter": "python",
   "pygments_lexer": "ipython3",
   "version": "3.8.5"
  }
 },
 "nbformat": 4,
 "nbformat_minor": 4
}
